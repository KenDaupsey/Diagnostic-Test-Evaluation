{
  "nbformat": 4,
  "nbformat_minor": 0,
  "metadata": {
    "colab": {
      "provenance": [],
      "authorship_tag": "ABX9TyO5OBDiA1+4A3V4+O3thd8Q",
      "include_colab_link": true
    },
    "kernelspec": {
      "name": "python3",
      "display_name": "Python 3"
    },
    "language_info": {
      "name": "python"
    }
  },
  "cells": [
    {
      "cell_type": "markdown",
      "metadata": {
        "id": "view-in-github",
        "colab_type": "text"
      },
      "source": [
        "<a href=\"https://colab.research.google.com/github/KenDaupsey/Diagnostic-Test-Evaluation/blob/main/Diagnostic_Test_Evaluation.ipynb\" target=\"_parent\"><img src=\"https://colab.research.google.com/assets/colab-badge.svg\" alt=\"Open In Colab\"/></a>"
      ]
    },
    {
      "cell_type": "markdown",
      "source": [
        "*** Diagnostic Test Evaluation ***"
      ],
      "metadata": {
        "id": "1OUJQSYe7tTA"
      }
    },
    {
      "cell_type": "markdown",
      "source": [
        "** Sensitivity test **\n",
        "**\tSpecificity test **\n",
        "** Positive predictive value **\n",
        "**\tNegative predictive value **\n"
      ],
      "metadata": {
        "id": "q3XYr0A472g9"
      }
    },
    {
      "cell_type": "markdown",
      "source": [
        "** Sensitivity Test **"
      ],
      "metadata": {
        "id": "LS4TMwb28IPB"
      }
    },
    {
      "cell_type": "code",
      "source": [
        "# Sensitivity Test\n",
        "\n",
        "import pandas as pd\n",
        "\n",
        "# Sample data\n",
        "true_positive = 300\n",
        "true_negative = 500\n",
        "false_positive = 20\n",
        "false_negative = 30\n",
        "\n",
        "# Create a contingency table\n",
        "contingency_table = pd.DataFrame(\n",
        "    {\"Predicted Positive\": [true_positive, false_positive],\n",
        "     \"Predicted Negative\": [false_negative, true_negative]},\n",
        "    index=[\"Actual Positive\", \"Actual Negative\"],\n",
        ")\n",
        "\n",
        "# Compute sensitivity\n",
        "sensitivity = true_positive / (true_positive + false_negative)\n",
        "\n",
        "# Display the contingency table and sensitivity\n",
        "print(\"Contingency Table:\")\n",
        "print(contingency_table)\n",
        "print(\"\\nSensitivity:\", sensitivity)"
      ],
      "metadata": {
        "colab": {
          "base_uri": "https://localhost:8080/"
        },
        "id": "0ZbDxFuc8L_C",
        "outputId": "4a87d26e-d22b-4286-ceda-44ec54646b6c"
      },
      "execution_count": 1,
      "outputs": [
        {
          "output_type": "stream",
          "name": "stdout",
          "text": [
            "Contingency Table:\n",
            "                 Predicted Positive  Predicted Negative\n",
            "Actual Positive                 300                  30\n",
            "Actual Negative                  20                 500\n",
            "\n",
            "Sensitivity: 0.9090909090909091\n"
          ]
        }
      ]
    },
    {
      "cell_type": "markdown",
      "source": [
        "** Specificity Test **"
      ],
      "metadata": {
        "id": "TeoqFY9l8Rc2"
      }
    },
    {
      "cell_type": "code",
      "source": [
        "# Specificity Test\n",
        "\n",
        "import pandas as pd\n",
        "\n",
        "# Sample data\n",
        "true_positive = 300\n",
        "true_negative = 500\n",
        "false_positive = 20\n",
        "false_negative = 30\n",
        "\n",
        "# Create a contingency table\n",
        "contingency_table = pd.DataFrame(\n",
        "    {\"Predicted Positive\": [true_positive, false_positive],\n",
        "     \"Predicted Negative\": [false_negative, true_negative]},\n",
        "    index=[\"Actual Positive\", \"Actual Negative\"],\n",
        ")\n",
        "\n",
        "# Compute specificity\n",
        "specificity = true_negative / (true_negative + false_positive)\n",
        "\n",
        "# Display the contingency table and specificity\n",
        "print(\"Contingency Table:\")\n",
        "print(contingency_table)\n",
        "print(\"\\nSpecificity:\", specificity)"
      ],
      "metadata": {
        "colab": {
          "base_uri": "https://localhost:8080/"
        },
        "id": "4Bc-V62u8L38",
        "outputId": "d7f24f50-d1cd-4d38-c7b7-1e0bd20bb2df"
      },
      "execution_count": 2,
      "outputs": [
        {
          "output_type": "stream",
          "name": "stdout",
          "text": [
            "Contingency Table:\n",
            "                 Predicted Positive  Predicted Negative\n",
            "Actual Positive                 300                  30\n",
            "Actual Negative                  20                 500\n",
            "\n",
            "Specificity: 0.9615384615384616\n"
          ]
        }
      ]
    },
    {
      "cell_type": "markdown",
      "source": [
        "** Positive Predictive Value **"
      ],
      "metadata": {
        "id": "cptY2OMt8aO-"
      }
    },
    {
      "cell_type": "code",
      "source": [
        "# Positive Predictive Value\n",
        "\n",
        "import pandas as pd\n",
        "\n",
        "# Sample data\n",
        "true_positive = 300\n",
        "true_negative = 500\n",
        "false_positive = 20\n",
        "false_negative = 30\n",
        "\n",
        "# Create a contingency table\n",
        "contingency_table = pd.DataFrame(\n",
        "    {\"Predicted Positive\": [true_positive, false_positive],\n",
        "     \"Predicted Negative\": [false_negative, true_negative]},\n",
        "    index=[\"Actual Positive\", \"Actual Negative\"],\n",
        ")\n",
        "\n",
        "# Compute positive predictive value\n",
        "ppv = true_positive / (true_positive + false_positive)\n",
        "\n",
        "# Display the contingency table and positive predictive value\n",
        "print(\"Contingency Table:\")\n",
        "print(contingency_table)\n",
        "print(\"\\nPositive Predictive Value (PPV):\", ppv)"
      ],
      "metadata": {
        "colab": {
          "base_uri": "https://localhost:8080/"
        },
        "id": "PxpND5068L0K",
        "outputId": "98d713a2-9866-4ff5-bc1b-4d84bea67130"
      },
      "execution_count": 3,
      "outputs": [
        {
          "output_type": "stream",
          "name": "stdout",
          "text": [
            "Contingency Table:\n",
            "                 Predicted Positive  Predicted Negative\n",
            "Actual Positive                 300                  30\n",
            "Actual Negative                  20                 500\n",
            "\n",
            "Positive Predictive Value (PPV): 0.9375\n"
          ]
        }
      ]
    },
    {
      "cell_type": "markdown",
      "source": [
        "** Negative Predictive Value **"
      ],
      "metadata": {
        "id": "XVaQld268jlJ"
      }
    },
    {
      "cell_type": "code",
      "source": [
        "# Negative Predictive Value\n",
        "\n",
        "import pandas as pd\n",
        "\n",
        "# Sample data\n",
        "true_positive = 300\n",
        "true_negative = 500\n",
        "false_positive = 20\n",
        "false_negative = 30\n",
        "\n",
        "# Create a contingency table\n",
        "contingency_table = pd.DataFrame(\n",
        "    {\"Predicted Positive\": [true_positive, false_positive],\n",
        "     \"Predicted Negative\": [false_negative, true_negative]},\n",
        "    index=[\"Actual Positive\", \"Actual Negative\"],\n",
        ")\n",
        "\n",
        "# Compute negative predictive value\n",
        "npv = true_negative / (true_negative + false_negative)\n",
        "\n",
        "# Display the contingency table and negative predictive value\n",
        "print(\"Contingency Table:\")\n",
        "print(contingency_table)\n",
        "print(\"\\nNegative Predictive Value (NPV):\", npv)"
      ],
      "metadata": {
        "colab": {
          "base_uri": "https://localhost:8080/"
        },
        "id": "ZkRmxTpn8LwZ",
        "outputId": "0d4f372e-31c4-47d7-cffb-a04dd71ad3b1"
      },
      "execution_count": 4,
      "outputs": [
        {
          "output_type": "stream",
          "name": "stdout",
          "text": [
            "Contingency Table:\n",
            "                 Predicted Positive  Predicted Negative\n",
            "Actual Positive                 300                  30\n",
            "Actual Negative                  20                 500\n",
            "\n",
            "Negative Predictive Value (NPV): 0.9433962264150944\n"
          ]
        }
      ]
    },
    {
      "cell_type": "markdown",
      "source": [
        "** Sensitivity, Specificity, PPV AND NPV in One Code **"
      ],
      "metadata": {
        "id": "der5YGYr8tMp"
      }
    },
    {
      "cell_type": "code",
      "source": [
        "#### SENSITIVITY, SPECIFICITY, PPV AND NPV on one code\n",
        "\n",
        "import numpy as np\n",
        "import matplotlib.pyplot as plt\n",
        "\n",
        "# Sample data\n",
        "true_positive = 300\n",
        "true_negative = 500\n",
        "false_positive = 20\n",
        "false_negative = 30\n",
        "\n",
        "# Sensitivity Test\n",
        "sensitivity = true_positive / (true_positive + false_negative)\n",
        "print(\"Sensitivity:\", sensitivity)\n",
        "\n",
        "# Specificity Test\n",
        "specificity = true_negative / (true_negative + false_positive)\n",
        "print(\"Specificity:\", specificity)\n",
        "\n",
        "# Positive Predictive Value (PPV)\n",
        "ppv = true_positive / (true_positive + false_positive)\n",
        "print(\"Positive Predictive Value (PPV):\", ppv)\n",
        "\n",
        "# Negative Predictive Value (NPV)\n",
        "npv = true_negative / (true_negative + false_negative)\n",
        "print(\"Negative Predictive Value (NPV):\", npv)\n",
        "\n",
        "# Contingency Table\n",
        "contingency_table = np.array([[true_positive, false_negative], [false_positive, true_negative]])\n",
        "print(\"\\nContingency Table:\")\n",
        "print(contingency_table)\n",
        "\n",
        "# Plotting the Contingency Table\n",
        "fig, ax = plt.subplots()\n",
        "ax.matshow(contingency_table, cmap=plt.cm.Blues)\n",
        "for i in range(2):\n",
        "    for j in range(2):\n",
        "        ax.text(j, i, str(contingency_table[i, j]), ha='center', va='center')\n",
        "\n",
        "plt.title('Contingency Table')\n",
        "plt.xlabel('Predicted Label')\n",
        "plt.ylabel('True Label')\n",
        "plt.show()"
      ],
      "metadata": {
        "colab": {
          "base_uri": "https://localhost:8080/",
          "height": 616
        },
        "id": "sXFrk8zy7wrN",
        "outputId": "f0056f54-fbb0-48dd-96c9-500f44903765"
      },
      "execution_count": 5,
      "outputs": [
        {
          "output_type": "stream",
          "name": "stdout",
          "text": [
            "Sensitivity: 0.9090909090909091\n",
            "Specificity: 0.9615384615384616\n",
            "Positive Predictive Value (PPV): 0.9375\n",
            "Negative Predictive Value (NPV): 0.9433962264150944\n",
            "\n",
            "Contingency Table:\n",
            "[[300  30]\n",
            " [ 20 500]]\n"
          ]
        },
        {
          "output_type": "display_data",
          "data": {
            "text/plain": [
              "<Figure size 640x480 with 1 Axes>"
            ],
            "image/png": "[encoded data removed]"
          },
          "metadata": {}
        }
      ]
    },
    {
      "cell_type": "markdown",
      "source": [
        "** Kappa Statistic **"
      ],
      "metadata": {
        "id": "Z8dgx_HI83CP"
      }
    },
    {
      "cell_type": "code",
      "source": [
        "import numpy as np\n",
        "from sklearn.metrics import confusion_matrix\n",
        "from sklearn.metrics import cohen_kappa_score\n",
        "\n",
        "# Simulating data\n",
        "np.random.seed(42)\n",
        "\n",
        "# True diagnosis (0: Absence, 1: Presence)\n",
        "true_diagnosis = np.random.choice([0, 1], size=100, p=[0.7, 0.3])\n",
        "true_diagnosis"
      ],
      "metadata": {
        "colab": {
          "base_uri": "https://localhost:8080/"
        },
        "id": "_U8bmLpA842A",
        "outputId": "0eb63d8d-35a5-4def-ee21-0bf2a9b9714e"
      },
      "execution_count": 6,
      "outputs": [
        {
          "output_type": "execute_result",
          "data": {
            "text/plain": [
              "array([0, 1, 1, 0, 0, 0, 0, 1, 0, 1, 0, 1, 1, 0, 0, 0, 0, 0, 0, 0, 0, 0,\n",
              "       0, 0, 0, 1, 0, 0, 0, 0, 0, 0, 0, 1, 1, 1, 0, 0, 0, 0, 0, 0, 0, 1,\n",
              "       0, 0, 0, 0, 0, 0, 1, 1, 1, 1, 0, 1, 0, 0, 0, 0, 0, 0, 1, 0, 0, 0,\n",
              "       0, 1, 0, 1, 1, 0, 0, 1, 1, 1, 1, 0, 0, 0, 1, 0, 0, 0, 0, 0, 1, 0,\n",
              "       1, 0, 0, 1, 1, 0, 1, 0, 0, 0, 0, 0])"
            ]
          },
          "metadata": {},
          "execution_count": 6
        }
      ]
    },
    {
      "cell_type": "code",
      "source": [
        "# Doctor 1's diagnosis\n",
        "doctor1_diagnosis = true_diagnosis + np.random.choice([-1, 0, 1], size=100, p=[0.1, 0.8, 0.1])\n",
        "doctor1_diagnosis"
      ],
      "metadata": {
        "colab": {
          "base_uri": "https://localhost:8080/"
        },
        "id": "HrA6We-a9H5L",
        "outputId": "3ca42f96-6440-43db-9c95-0e03c6200c07"
      },
      "execution_count": 7,
      "outputs": [
        {
          "output_type": "execute_result",
          "data": {
            "text/plain": [
              "array([-1,  1,  1,  0,  1,  0,  0,  1,  0,  0,  0,  1,  2,  0,  0,  0,  0,\n",
              "        0,  0,  0,  0,  0,  0,  0,  0,  1,  0,  0, -1,  0,  0,  0,  0,  1,\n",
              "        2,  1,  0,  0,  0,  1,  1,  0,  0,  1,  0, -1,  0,  0, -1,  0,  2,\n",
              "        1,  1,  1,  1,  1,  0,  0,  0,  0,  0,  0,  1,  0, -1,  0,  0,  1,\n",
              "       -1,  1,  1, -1,  0,  1,  1,  1,  1,  0,  1,  0,  1,  0,  1,  0,  0,\n",
              "        0,  1,  0,  1,  0, -1,  1,  2,  0,  1,  0,  0,  0,  0,  0])"
            ]
          },
          "metadata": {},
          "execution_count": 7
        }
      ]
    },
    {
      "cell_type": "code",
      "source": [
        "# Doctor 2's diagnosis\n",
        "doctor2_diagnosis = true_diagnosis + np.random.choice([-1, 0, 1], size=100, p=[0.1, 0.8, 0.1])\n",
        "doctor2_diagnosis"
      ],
      "metadata": {
        "colab": {
          "base_uri": "https://localhost:8080/"
        },
        "id": "QXvfeNPk9H0n",
        "outputId": "eab7ca94-d24a-416f-90ab-915667219925"
      },
      "execution_count": 8,
      "outputs": [
        {
          "output_type": "execute_result",
          "data": {
            "text/plain": [
              "array([ 0,  0,  1,  0,  0, -1,  0,  1, -1,  1,  0,  1,  1,  0,  0,  0,  0,\n",
              "        0,  0,  0,  0,  0, -1,  0,  0,  1,  1,  0,  0,  0,  0,  0,  0,  1,\n",
              "        1,  1,  0, -1,  0,  0,  1,  1,  1,  1, -1,  1,  0,  1,  1,  0,  1,\n",
              "        1,  1,  1,  0,  1,  1,  0,  0, -1,  0,  1,  1,  0,  0,  0,  0,  1,\n",
              "        0,  1,  1,  0,  0,  2,  1,  1,  1,  0,  0,  0,  1,  0,  0, -1,  0,\n",
              "       -1,  1,  0,  1,  0, -1,  0,  1,  0,  1,  0,  0,  0,  0, -1])"
            ]
          },
          "metadata": {},
          "execution_count": 8
        }
      ]
    },
    {
      "cell_type": "code",
      "source": [
        "# Ensure diagnoses are within valid range\n",
        "doctor1_diagnosis = np.clip(doctor1_diagnosis, 0, 1)\n",
        "doctor2_diagnosis = np.clip(doctor2_diagnosis, 0, 1)\n",
        "\n",
        "doctor1_diagnosis"
      ],
      "metadata": {
        "colab": {
          "base_uri": "https://localhost:8080/"
        },
        "id": "sAowb7b59Hw8",
        "outputId": "8e2baa14-601f-4776-994b-0f9ab254fb53"
      },
      "execution_count": 9,
      "outputs": [
        {
          "output_type": "execute_result",
          "data": {
            "text/plain": [
              "array([0, 1, 1, 0, 1, 0, 0, 1, 0, 0, 0, 1, 1, 0, 0, 0, 0, 0, 0, 0, 0, 0,\n",
              "       0, 0, 0, 1, 0, 0, 0, 0, 0, 0, 0, 1, 1, 1, 0, 0, 0, 1, 1, 0, 0, 1,\n",
              "       0, 0, 0, 0, 0, 0, 1, 1, 1, 1, 1, 1, 0, 0, 0, 0, 0, 0, 1, 0, 0, 0,\n",
              "       0, 1, 0, 1, 1, 0, 0, 1, 1, 1, 1, 0, 1, 0, 1, 0, 1, 0, 0, 0, 1, 0,\n",
              "       1, 0, 0, 1, 1, 0, 1, 0, 0, 0, 0, 0])"
            ]
          },
          "metadata": {},
          "execution_count": 9
        }
      ]
    },
    {
      "cell_type": "code",
      "source": [
        "doctor2_diagnosis"
      ],
      "metadata": {
        "colab": {
          "base_uri": "https://localhost:8080/"
        },
        "id": "cO_yA4ca9HvS",
        "outputId": "5323b2d9-d668-49ef-921c-8b91a9a8eb24"
      },
      "execution_count": 10,
      "outputs": [
        {
          "output_type": "execute_result",
          "data": {
            "text/plain": [
              "array([0, 0, 1, 0, 0, 0, 0, 1, 0, 1, 0, 1, 1, 0, 0, 0, 0, 0, 0, 0, 0, 0,\n",
              "       0, 0, 0, 1, 1, 0, 0, 0, 0, 0, 0, 1, 1, 1, 0, 0, 0, 0, 1, 1, 1, 1,\n",
              "       0, 1, 0, 1, 1, 0, 1, 1, 1, 1, 0, 1, 1, 0, 0, 0, 0, 1, 1, 0, 0, 0,\n",
              "       0, 1, 0, 1, 1, 0, 0, 1, 1, 1, 1, 0, 0, 0, 1, 0, 0, 0, 0, 0, 1, 0,\n",
              "       1, 0, 0, 0, 1, 0, 1, 0, 0, 0, 0, 0])"
            ]
          },
          "metadata": {},
          "execution_count": 10
        }
      ]
    },
    {
      "cell_type": "code",
      "source": [
        "# Create confusion matrix\n",
        "conf_matrix = confusion_matrix(doctor1_diagnosis, doctor2_diagnosis)"
      ],
      "metadata": {
        "id": "FUA7T0Er9HUj"
      },
      "execution_count": 11,
      "outputs": []
    },
    {
      "cell_type": "code",
      "source": [
        "# Calculate Kappa statistic\n",
        "kappa = cohen_kappa_score(doctor1_diagnosis, doctor2_diagnosis)\n",
        "kappa"
      ],
      "metadata": {
        "colab": {
          "base_uri": "https://localhost:8080/"
        },
        "id": "BoKj9Chz9X1q",
        "outputId": "d1e1d743-84cd-406d-930d-178e336df242"
      },
      "execution_count": 12,
      "outputs": [
        {
          "output_type": "execute_result",
          "data": {
            "text/plain": [
              "0.6529284164859002"
            ]
          },
          "metadata": {},
          "execution_count": 12
        }
      ]
    },
    {
      "cell_type": "code",
      "source": [
        "# Print results\n",
        "print(\"Confusion Matrix:\")\n",
        "print(conf_matrix)\n",
        "print(\"\\nKappa Statistic:\", kappa)"
      ],
      "metadata": {
        "colab": {
          "base_uri": "https://localhost:8080/"
        },
        "id": "sPW_CTjU9XYH",
        "outputId": "bb438a6c-5c2d-4888-f865-d690775c8601"
      },
      "execution_count": 13,
      "outputs": [
        {
          "output_type": "stream",
          "name": "stdout",
          "text": [
            "Confusion Matrix:\n",
            "[[56  9]\n",
            " [ 7 28]]\n",
            "\n",
            "Kappa Statistic: 0.6529284164859002\n"
          ]
        }
      ]
    },
    {
      "cell_type": "markdown",
      "source": [
        "*** Other Diagnostic tests ***"
      ],
      "metadata": {
        "id": "l5WEq9YT9kw7"
      }
    },
    {
      "cell_type": "code",
      "source": [
        "# Sample data\n",
        "true_positive = 300\n",
        "true_negative = 500\n",
        "false_positive = 20\n",
        "false_negative = 30\n",
        "\n",
        "# Total population\n",
        "total = true_positive + false_negative + false_positive + true_negative\n",
        "\n",
        "# Accuracy\n",
        "accuracy = (true_positive + true_negative) / total\n",
        "print(\"Accuracy:\", accuracy)\n",
        "\n",
        "# Sensitivity / Recall\n",
        "sensitivity = true_positive / (true_positive + false_negative)\n",
        "print(\"Sensitivity/Recall:\", sensitivity)\n",
        "\n",
        "# Specificity\n",
        "specificity = true_negative / (false_positive + true_negative)\n",
        "print(\"Specificity:\", specificity)\n",
        "\n",
        "# Precision\n",
        "precision = true_positive / (true_positive + false_positive)\n",
        "print(\"Precision:\", precision)\n",
        "\n",
        "# Positive Likelihood Ratio\n",
        "plr = sensitivity / (1 - specificity)\n",
        "print(\"Positive Likelihood Ratio:\", plr)\n",
        "\n",
        "# Negative Likelihood Ratio\n",
        "nlr = (1 - sensitivity) / specificity\n",
        "print(\"Negative Likelihood Ratio:\", nlr)\n",
        "\n",
        "# Diagnostic Odds Ratio\n",
        "dor = (sensitivity / (1 - sensitivity)) / ((1 - specificity) / specificity)\n",
        "print(\"Diagnostic Odds Ratio:\", dor)\n",
        "\n",
        "# F1 Score\n",
        "f1 = 2 * (precision * sensitivity) / (precision + sensitivity)\n",
        "print(\"F1 Score:\", f1)"
      ],
      "metadata": {
        "colab": {
          "base_uri": "https://localhost:8080/"
        },
        "id": "63mzl60k9fiA",
        "outputId": "2f120411-699e-4eaa-fa6e-58f3bdd45c16"
      },
      "execution_count": 14,
      "outputs": [
        {
          "output_type": "stream",
          "name": "stdout",
          "text": [
            "Accuracy: 0.9411764705882353\n",
            "Sensitivity/Recall: 0.9090909090909091\n",
            "Specificity: 0.9615384615384616\n",
            "Precision: 0.9375\n",
            "Positive Likelihood Ratio: 23.63636363636365\n",
            "Negative Likelihood Ratio: 0.09454545454545457\n",
            "Diagnostic Odds Ratio: 250.00000000000009\n",
            "F1 Score: 0.923076923076923\n"
          ]
        }
      ]
    },
    {
      "cell_type": "code",
      "source": [],
      "metadata": {
        "id": "ZEOKYPd39fIf"
      },
      "execution_count": 14,
      "outputs": []
    }
  ]
}